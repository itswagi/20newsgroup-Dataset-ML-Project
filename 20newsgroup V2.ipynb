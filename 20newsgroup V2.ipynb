{
 "metadata": {
  "language_info": {
   "codemirror_mode": {
    "name": "ipython",
    "version": 3
   },
   "file_extension": ".py",
   "mimetype": "text/x-python",
   "name": "python",
   "nbconvert_exporter": "python",
   "pygments_lexer": "ipython3",
   "version": "3.8.5-final"
  },
  "orig_nbformat": 2,
  "kernelspec": {
   "name": "python3",
   "display_name": "Python 3"
  }
 },
 "nbformat": 4,
 "nbformat_minor": 2,
 "cells": [
  {
   "cell_type": "code",
   "execution_count": 1,
   "metadata": {},
   "outputs": [],
   "source": [
    "from sklearn.datasets import fetch_20newsgroups\n",
    "import pandas as pd\n",
    "import seaborn as sns\n",
    "import numpy as np \n",
    "from matplotlib import pyplot as plt\n",
    "%matplotlib inline\n",
    "pd.set_option('display.max_columns', None)"
   ]
  },
  {
   "cell_type": "code",
   "execution_count": 2,
   "metadata": {
    "tags": [
     "outputPrepend"
    ]
   },
   "outputs": [
    {
     "output_type": "stream",
     "name": "stdout",
     "text": [
      "n FPU in these machines is to\\nreplace the LC040 with a full \\'040. And if you have a C610, you will not\\nneed to worry about a heat sink if you do replace the LC040 with the\\nfull \\'040, but if you have a 4/80 C650 you do need to have a heat sink.', \" \\nThe federal government has mandated that all passenger cars by model year\\n'95 return to the floor mounted dimmer switch.\\n\\nA study by the National Highway Traffic Safety Administration (NHTSA) has\\nfound that an unacceptable percentage of after dusk collisions were the\\ndirect result of unskilled drivers getting their left foot stuck in the\\nsteering wheel :-)\\n\\n-- \\nRon Gaskins                                 c23reg@koptsw21.delcoelect.com\\nAutomotive Electronic Systems               Delco Electronics\\nGM Hughes Electronics, Kokomo, IN 46904  \", \"\\nIf I hear someone screwing with my car (ie, setting off the alarm) and\\ntaunting me to come out, you can be damn sure that my Colt Delta Elite\\nwill also be coming with me. It's not the screwing with the car that'd\\nget them shot, it's the potential physical danger. If they're\\ntaunting like that, it's very possible that they also intend to rob\\nme and/or do other physically harmful things.\\n\\nIf they're just screwing around, no harm done. If they're bent on\\nmayhem, they will receive the cure for their lead deficiency; a\\n180gr. injection @1200 fps...there's no telling what today's violent\\ncriminals will do. Death may be the most pleasant outcome...\\n\\n\\t\\t\\t\\tJames\", 'The following is posted for a friend.  You can send replies to this email\\naddress or call him at 503-752-1499.  (Glen)\\n\\n\\tI have a CITIZEN OVERTURE 110 Laser printer for sale.  It is in\\nexcellent condition.  It has been used less than one year on this drum.\\nI am asking $500, but all offers will be considered.  Below are some\\nspecs on it.\\n\\nToner lifespan:\\t\\t2500 pages\\nDrum lifespan:\\t\\t15,000 pages\\nResolution:\\t\\t300 DPI\\nMemory:\\t\\t\\t512K\\nEmulation:\\t\\tEpson FX286\\n\\t\\t\\tIBM ProPrinter\\n\\t\\t\\tDiablo 635\\nPrinting Capacity:\\tQuad-density graphics\\nTray capacity:\\t\\t250 sheets\\n\\nReason for sale:  \\tFinancial--I need to pay tuition.\\n\\nThanks,\\n\\n-Glen Anderson', \" \\n \\n Well, I'm a Wings fan and I think the FIRST thing that you should do is to\\nget the opponent's line combinations correct before you try to match up anyone\\nwith them.  There is no Yzerman-Fedorov-Probert line, except for maybe on a\\npowerplay.  These three players usually play on three different lines.\\nWhich would mean that Toronto's checking line would have to pull a triple\\nshift.\\nThe Wings' lines usually look like this:\\n \\n                      Gallant-Yzerman-Ciccarelli\\n \\n                      Kozlov-Fedorov-Drake\\n \\n                      Kennedy-Burr-Probert\\n \\n                      Ysebaert-Primeau-Sheppard\\n \\nOh by the way:  Start praying! : )\", \"I never thought I'd contribute to a Gateway thread, either pro or con, but\\nmy spleen could use a little venting.  The scenario:\\n\\n\\t1 - Ordered a DX2/50 w/ Ultrastor 34F Local Bus HD controller\\n\\t2 - Receive system 10 days after ordering (Happy)\\n\\t3 - Discover Ultrastor 14F ISA HD Controller inside (unhappy)\\n\\t4 - Call Gateway, receive the correct controller in 5 days \\n\\t\\t(getting happier)\\n\\t5 - New controller doesn't work (unhappy again)\\n\\t6 - Call Gateway again, get another controller in 5 more days\\n\\t\\t\\t(cooling off, the end is in sight)\\n\\t7 - This controller doesn't work either, motherboard is bad\\n\\t\\t(VERY unhappy)\\n\\nGateway's solution:  They will order me a new motherboard (5 more days)\\n\\tand have on-site service install it for me.\\nBUT, I have to take a day off of work because the service people\\nonly work 9-5 M-f.  I say, no way I've already blown about 20 hours\\nwith this, about 10 of them on hold and I don't have the time or $$\\nto take a day off work.  Also, my 30 day return period is almost over and\\nI've only been able to use the thin for about 10 minutes.  So, the whole \\nthing is going back.  \\n  I was extremely upset when I began this post because the support rep told me\\nthat I would have to pay shipping not only for the returned system, but also\\nthe two hard drive controllers they had sent me.  Fortunately, I just spoke\\nto customer service and they are going to have UPS come and pick everything\\nup gratis. The only downside is that now I have to order another computer.\\n\\nI would really like to try Gateway again, I'm just very turned off by the\\nprospect of having to try and get through to Customer Service or Tech Support\\nagain...  I think their products are great for the most part, but I'm\\nbeginning to wonder if the savings are worth the potential aggravation.\\nAre other mail order companies as difficult to contact?  I know Gateway is\\nbooming, and for good reason, but I don't know if I can take it again.\\nOh well, I feel better now...\\n\", '\\n\\n\\n\\n\\n   Anaheim.', \"Hello,\\n\\n    I am having a small problem with my sound blaster pro and a game.\\nIs there a utility out there that would tell me what DMA's my system\\nis using?\\n\", \"After reading some of the reports of possible NHL moves to Milwaukee or that\\nMilwaukee should have an NHL team, I thought I'd pass along a story I heard\\nrecently.  This is second hand, so I don't know how true it is, but I have\\nno reason to doubt it either.\\n\\nBradley Center in Milwaukee is home to the Milwaukee Admirals minor leauge\\nhockey team.  The owner of the Admirals (sorry, I can't remember his name)\\neither owns or at least shelled out the majority of the funds to build the\\nBradley Center.\\n\\nSupposedly he was approached by the NHL about an expansion franchise, but \\nturned it down because he thought the franchise fee of $50 million was too\\nhigh.\\n\\nLike I said, I don't know whether this story is true or just a rumor, but if\\nit's true, don't look for an NHL team in Milwaukee anytime soon.  The Admirals\\naren't going to be forced out of the building and you won't see an NHL club\\nand a minor league club in the same building, especially since the NBA's\\nMilwaukee Bucks play there as well.\", \"^^^^^^^^^^^^^^^^^^^^^^^^^^^^^^^^^^^^^^^^^^^^^^^\\nI've heard many Turks say this and it surpises me that they don't read about\\nit.Remember the Treaty of Sevres-as a consequence of being in the Axis powers\\nin WWI.The Turks UNDER INTERNATIONAL LAW were supposed to look after their\\nminorities ie. Greeks,Armenians,Kurds(I must say Turk-Kurd relations are \\nimproving slightly with time) and not pose a threat to Turkey's neighbours.\\nThe Turks blatantly rejected this treaty(the Germans grudgingly accepted \\nVersailles which was a million times worse for the health and pride of the \\nGerman people).The Greeks who had an army there,were there with BRITISH\\nand FRENCH backing to enforce Sevres.\\n    In possibly the first example of appeasement the Young Turk government\\nmanaged screwed the Treaty of Laussane out of the weak allies,this was after \\nthe Greek forces were were destroyed at Smyrna.When this occurred incidently,\\nFRENCH warships were in the harbour and many Greeks trying escape swam to the \\nFRENCH warships and climbed aboard only to get their arms cut off by the FRENCH\\nas they clawed they're way up the sides of the ships.\\nLibertae,egalitae,fraternatae.\\n\\n\\n\", \"\\nI am asking you to believe in things not visible. I don't know if this is\\nbelieveing blindly or not. I'm not sure how blindness comes into it. I do\\nnot deny reason, indeed I insist upon it, but reason only draws conclusions\\nfrom evidence. If you decide in advance that your reason will act only on\\nthe evidence of the five physical senses, then you cut reason off from any\\npossibility of reaching a conclusion outside the physical sphere (beyond the\\nrather provocative, if inconclusive, conclusion that the physical sphere\\nis not self explanatory). \\n\\nChristians claim that they have received a different kind of evidence, \\nwhich they call faith, and which is a gift of God. That is, this evidence\\nis the evidence of a thing which chooses to reveal or hide itself. The \\nevidence of the senses cannot tell you is such a ting exists. Reasoning\\non the evidence of the senses won't help either. But Christians do reason\\nof the evidence of faith, and do claim that this evidence is wholly\\nconsistent with the evidence of the other senses, and indeed, that the\\nevidence of these other senses is part of God's revelation of himself\\nto us.\\n\\nIt is not necessarilly the case however that knowledge of a God must come\\nthrough this route. There may be other senses than the physical ones\\nproviding evidence of non-physical realities. (There may, of course, be\\nphysical realities of a type for which we have no corresponding senses, for\\nall we know.) These senses, if they exist, may provide valid evidence for\\nreason to work on. And, as with all senses, these senses may be impaired\\nin some people, that is, they may be spiritually blind. In this sense,\\nbelief in God becomes an act of sight, and it is disbelief which is blind.\\n\\nFaith, as I have said, is not opposed to reason, it is simply a new source \\nof evidence on which reason may operate. It is clear that human beings\\nhave many systems for explaining the evidence of the physical senses, and\\nsimilarly there are many systems for explaining the evidence provided by\\nfaith. Religious believers in general, and Christians in particular, use\\nreason to help sift through the evidence to come to a clearer understanding\\nof the evidence provided by faith. Science claims, with good reason, to be\\nthe most valid system for explaining the physical universe, and Christianity\\nclaims, also with good reason, to be the most valid system, possessed of the\\nbest evidence, for explaining Gods revelations of himself to man.\\n\\nIf you doubt that Christians use reason, read this newsgroup for a while\\nand you will see rational debate aplenty.\", 'I have an Alesis HR-16 drum machine for sale.  It includes velocity-sensitive\\npads, 49 digital sounds, 99 pattern memory and 49 song memory.  If you are\\ninterested, make me an offer.  Please respond to:\\n\\n\\tzmed16@trc.amoco.com\\n\\nThanks,', '\\nProbably keep quiet and take it, lest they get their kneecaps busted.', \"Here is the story:\\nI have a network with 4 Macs on Localtalk. One of them has an\\nEthernet Card, and is currently connected to a NeXT (don't laugh\\nI got it for the price of a Mac IIsi). The NeXT is connected\\nto the internet over SLIP running on a 9600 baud modem.\\n\\nCurrently, we can telnet from the Mac w/ Ethernet to the NeXT,\\nand then telnet out again to the rest of the world.\\n\\nWhat we want to know is if there is some sort of hardware that\\nwill route telnet sessions from the Localtalk Macs to the NeXT\\nvia the Ethernet Mac. From what we have heard, AIR doesn't do\\nthe trick.\\n\\nSoftware solutions would be good too, but my impression is that\\nthere aren't going to be any.\\n\\nOur immediate interest is to be able to get to the NeXT and telnet\\nout again. The SLIP connection doesn't allow us to assign IP numbers\\nto machines, so everyone shares that 1 number...oh well...\\n\\nthanks in advance.\", '', '   [snip]\\n   In the first place the death of three soldiers on a patrol in occupied\\n   Lebanese terrritory is NOT an act of terrorism or murder.  It is \\n   disingeneous to compare their death to that of athletes in Munich\\n   or any other act of terrorism or mrder.  This exercise is aimed \\n   solely at diverting the issue and is far from the truth.\\n\\nI agree that the death of three soldiers on a patrol etc... is\\nnot terrorism.  That having been said, lets continue.\\n\\n   [snip]\\n   imagine ????  It is NOT a \"terrorist camp\" as you and the Israelis like \\n   to view the villages they are small communities with kids playing soccer\\n   in the streets, women preparing lunch, men playing cards, etc.....\\n\\nI would not argue that all or even most of the villages are \"terrorist\\ncamps\".  There are however some which come very close to serving that\\npurpose and that is not to say that other did not function in that way\\nprior to the invasion. \\n\\n   SOME young men, usually aged between 17 to 30 years are members of\\n   the Lebanese resistance.  Even the inhabitants of the village do not \\n   know who these are, they are secretive about it, but most people often\\n   suspect who they are and what they are up to.  These young men are\\n   supported financially by Iran most of the time.  They sneak arms and\\n   ammunitions into the occupied zone where they set up booby traps\\n   for Israeli patrols.  Every time an Israeli soldier is killed or injured\\n   by these traps, Israel retalliates by indiscriminately bombing villages\\n   of their own choosing often killing only innocent civilians.  Once they\\n   are back they announce that they bombed a \"terrorist  hideout\" where\\n   an 8 year old girl just happened to be.\\n\\nSome of the villages, and yours might well be among them, are as you\\ndescribe.  Not all are.  There are a large number of groups in the area,\\nbacked by various organizations, with a wide range of purposes.  Hizbollah\\nand Amal were two of the larger ones and may still be.  As to retaliation,\\nwhile mistakes may be made, that is still a far cry from indiscriminate\\nbombing, which would have produced major casualties.\\n\\n   Israel\\'s retalliation policy is cold hearted, but a reality that\\n   we have come to accept and deal with, the Lebanese Resistance\\n   on the other hand is not going to stop its attacks on OCCUPYING \\n   ISRAELI SOLDIERS until they withdraw, this is the only real \\n   leverage that they have to force Israel to withdraw.\\n\\nWell, here we disagree.  I think that Israel would willingly withdraw if\\nthe Lebanese gov\\'t was able to field a reliable force in the area to police\\nit and prevent further attacks.\\n\\n   This is the only realistic solution, it is time for Israel to\\n   realize that the concept of a \"buffer zone\" aimed at protecting\\n   its northern cities has failed.  In fact it has caused much more\\n   Israeli deaths than the occasional shelling of Northern Israel\\n   would have resulted in.  \\n\\nActually that is not clear at all.  I will agree that the death toll is no\\nlonger civilian and now primarily military though.\\n\\n   There seems to be very little incentive for the Syrian and Lebanese\\n   goovernment to allow Hizbollah to bomb Israel proper under such \\n   circumstances, and now the Lebanese government has proven that it is\\n   capable of controlling and disarming all militias as they did\\n   in all other parts of Lebanon.\\n\\nNo, the Syrian gov\\'t is more than happy to have Israel sink into another\\nLebanese morass.  I could elaborate if necessary.\\n\\n   I agree, only in the case of the Isareli soldiers their killing\\n   CANNOT be qualified as murder, no matter what you say.\\n\\nNo, but it is regretable, as is the whole situation.\\n', '', \"Hi to all.\\n\\nSince all of you could also be a seller as well as a buyer, I'd like to bring\\nthis issue for discussion - what would be the best solution in case a deal \\nbecame a lemon?\\n\\nAs I understand most people selling things over the net do not grant a warranty,I am in such a situation that the seller did not state whether a warranty would be granted or not and the item I received is out of order. The seller insisted\\nthat it was 'in good condition' when he sent it and so would just return half ofthe amount that I paid if I send the item back to him and after he is sured it\\nis bad. Is this reasonable?\\n\\nBasically I would like to believe the seller tells the truth. Also, I am positively to say that I've not done anything wrong which might cause the failure of \\nthe thing. My assumption here is everyone is honest - so rule out the possibility that either one of the two parties or both are liars.\\n\\nI would like to hear your opinion - either in here or directly respond to my\\ne-mail address.\\n\\nI know there is such a risk that you could lose money. But, how can we make it\\nenjoyable to most people and not wasting the bandwidth?\", 'Thanks for the many offers to review this book.\\n\\nIf you received a review copy, please return it\\nas soon as possible.  I had a system crash and\\nlost the list of people I sent it to!\\n\\nThanks', 'DN> From: nyeda@cnsvax.uwec.edu (David Nye)\\nDN> A neurology\\nDN> consultation is cheaper than a scan.\\n\\nAnd also better, because a neurologist can make a differential\\ndiagnosis between migraine, tension-type headache, cluster, benign\\nintracranial hypertension, chronic paroxysmal hemicrania, and other\\nheadache syndromes that all appear normal on a scan.  A neurologist\\ncan also recommend a course of treatment that is appropriate to the\\ndiagnosis.\\n\\nDN> >>Also, since many people are convinced they have brain tumors or other\\nDN> >>serious pathology, it may be cheaper to just get a CT scan then have\\nDN> >>them come into the ER every few weeks.\\nDN> And easier than taking the time to reassure the patient, right?\\nDN> Personally, I don\\'t think this can ever be justified.\\n\\nSigh.  It may never be justifiable, but I sometimes do it.  Even\\nafter I try to show thoroughness with a detailed history, neurologic\\nexamination, and discussion with the patient about my diagnosis,\\nsalted with lots of reassurance, patients still ask \"why can\\'t you\\norder a scan, so we can be absolutely sure?\"  Aunt Millie often gets\\ninto the conversation, as in \"they ignored Aunt Millie\\'s headaches\\nfor years\", and then she died of a brain tumor, aneurysm, or\\nwhatever.  If you can get away without ever ordering imaging for a\\npatient with an obviously benign headache syndrome, I\\'d like to hear\\nwhat your magic is.\\n\\nEvery once in a while I am able to bypass imaging by getting an EEG.\\nMind you, I don\\'t think EEG is terribly sensitive for brain tumor,\\nbut the patient feels like \"something is being done\" (as if the\\nhours I spent talking with and examining the patient were\\n\"nothing\"), the EEG has no ionizing radiation, it\\'s *much* cheaper\\nthan CT or MRI, and the EEG brings in some money to my department.', 'I have a (very old) Mac 512k and a Mac Plus, both of which \\nhave the same problem.\\n\\nTheir screens blank out, sometimes after a minor physical jolt\\n(such as inserting a floppy in the internal drive), sometimes \\nall by themselves (computer left to itself just goes blank).\\n\\nI have replaced the wires connecting the logic boards and the \\nvideo board, because it seemed at first that jiggling the wires\\nmade the screen come back on.  This worked for a while, but the\\nblanking out has returned.\\n\\nCan I do anything?  Do I need a new power supply?  A new CRT?\\nA new computer?\\n\\nThanks for any advice...\\n\\n--------------------------\\nEthan Bodin\\nTufts University\\nebodin@pearl.tufts.edu', 'I just installed a DX2-66 CPU in a clone motherboard, and tried mounting a CPU \\ncooler on the chip.  After about 1/2 hour, the weight of the cooler was enough \\nto dislodge the CPU from its mount.  It ended up bending a few pins\\non the CPU, but luckily the power was not on yet.  I ended up\\npressing the CPU deeply into its socket and then putting the CPU\\ncooler back on.  So far so good.\\n\\nHave others had this problem?  How do you ensure that the weight of\\nthe CPU fan and heatsink do not eventually work the CPU out of its\\nsocket when mounting the motherboard in a vertical case?\\n', \"\\nWouldn't this require a hyper-sphere.  In 3-space, 4 points over specifies\\na sphere as far as I can see.  Unless that is you can prove that a point\\nexists in 3-space that is equi-distant from the 4 points, and this may not\\nnecessarily happen.\\n\\nCorrect me if I'm wrong (which I quite possibly am!)\\n\\nsteve\\n---\\n\\n\\n\", \"Stolen from Pasadena between 4:30 and 6:30 pm on 4/15.\\n\\nBlue and white Honda CBR900RR california plate KG CBR.   Serial number\\nJH2SC281XPM100187, engine number 2101240.\\n\\nNo turn signals or mirrors, lights taped over for track riders session\\nat Willow Springs tomorrow.  Guess I'll miss it.  :-(((\\n\\nHelp me find my baby!!!\"]\n"
     ]
    }
   ],
   "source": [
    "data, target = fetch_20newsgroups(return_X_y=True, remove=('headers', 'footers', 'quotes'))\n",
    "print(data)"
   ]
  },
  {
   "cell_type": "code",
   "execution_count": 3,
   "metadata": {
    "tags": []
   },
   "outputs": [],
   "source": [
    "data = [item.lower() for item in data]\n"
   ]
  },
  {
   "cell_type": "code",
   "execution_count": 4,
   "metadata": {
    "tags": [
     "outputPrepend"
    ]
   },
   "outputs": [
    {
     "output_type": "stream",
     "name": "stdout",
     "text": [
      " pds card or\\nsomething like that. the only way to get an fpu in these machines is to\\nreplace the lc040 with a full \\'040. and if you have a c610, you will not\\nneed to worry about a heat sink if you do replace the lc040 with the\\nfull \\'040, but if you have a 4/80 c650 you do need to have a heat sink.', \"the federal government has mandated that all passenger cars by model year\\n'95 return to the floor mounted dimmer switch.\\n\\na study by the national highway traffic safety administration (nhtsa) has\\nfound that an unacceptable percentage of after dusk collisions were the\\ndirect result of unskilled drivers getting their left foot stuck in the\\nsteering wheel :-)\\n\\n-- \\nron gaskins                                 c23reg@koptsw21.delcoelect.com\\nautomotive electronic systems               delco electronics\\ngm hughes electronics, kokomo, in 46904\", \"if i hear someone screwing with my car (ie, setting off the alarm) and\\ntaunting me to come out, you can be damn sure that my colt delta elite\\nwill also be coming with me. it's not the screwing with the car that'd\\nget them shot, it's the potential physical danger. if they're\\ntaunting like that, it's very possible that they also intend to rob\\nme and/or do other physically harmful things.\\n\\nif they're just screwing around, no harm done. if they're bent on\\nmayhem, they will receive the cure for their lead deficiency; a\\n180gr. injection @1200 fps...there's no telling what today's violent\\ncriminals will do. death may be the most pleasant outcome...\\n\\n\\t\\t\\t\\tjames\", 'the following is posted for a friend.  you can send replies to this email\\naddress or call him at 503-752-1499.  (glen)\\n\\n\\ti have a citizen overture 110 laser printer for sale.  it is in\\nexcellent condition.  it has been used less than one year on this drum.\\ni am asking $500, but all offers will be considered.  below are some\\nspecs on it.\\n\\ntoner lifespan:\\t\\t2500 pages\\ndrum lifespan:\\t\\t15,000 pages\\nresolution:\\t\\t300 dpi\\nmemory:\\t\\t\\t512k\\nemulation:\\t\\tepson fx286\\n\\t\\t\\tibm proprinter\\n\\t\\t\\tdiablo 635\\nprinting capacity:\\tquad-density graphics\\ntray capacity:\\t\\t250 sheets\\n\\nreason for sale:  \\tfinancial--i need to pay tuition.\\n\\nthanks,\\n\\n-glen anderson', \"well, i'm a wings fan and i think the first thing that you should do is to\\nget the opponent's line combinations correct before you try to match up anyone\\nwith them.  there is no yzerman-fedorov-probert line, except for maybe on a\\npowerplay.  these three players usually play on three different lines.\\nwhich would mean that toronto's checking line would have to pull a triple\\nshift.\\nthe wings' lines usually look like this:\\n \\n                      gallant-yzerman-ciccarelli\\n \\n                      kozlov-fedorov-drake\\n \\n                      kennedy-burr-probert\\n \\n                      ysebaert-primeau-sheppard\\n \\noh by the way:  start praying! : )\", \"i never thought i'd contribute to a gateway thread, either pro or con, but\\nmy spleen could use a little venting.  the scenario:\\n\\n\\t1 - ordered a dx2/50 w/ ultrastor 34f local bus hd controller\\n\\t2 - receive system 10 days after ordering (happy)\\n\\t3 - discover ultrastor 14f isa hd controller inside (unhappy)\\n\\t4 - call gateway, receive the correct controller in 5 days \\n\\t\\t(getting happier)\\n\\t5 - new controller doesn't work (unhappy again)\\n\\t6 - call gateway again, get another controller in 5 more days\\n\\t\\t\\t(cooling off, the end is in sight)\\n\\t7 - this controller doesn't work either, motherboard is bad\\n\\t\\t(very unhappy)\\n\\ngateway's solution:  they will order me a new motherboard (5 more days)\\n\\tand have on-site service install it for me.\\nbut, i have to take a day off of work because the service people\\nonly work 9-5 m-f.  i say, no way i've already blown about 20 hours\\nwith this, about 10 of them on hold and i don't have the time or $$\\nto take a day off work.  also, my 30 day return period is almost over and\\ni've only been able to use the thin for about 10 minutes.  so, the whole \\nthing is going back.  \\n  i was extremely upset when i began this post because the support rep told me\\nthat i would have to pay shipping not only for the returned system, but also\\nthe two hard drive controllers they had sent me.  fortunately, i just spoke\\nto customer service and they are going to have ups come and pick everything\\nup gratis. the only downside is that now i have to order another computer.\\n\\ni would really like to try gateway again, i'm just very turned off by the\\nprospect of having to try and get through to customer service or tech support\\nagain...  i think their products are great for the most part, but i'm\\nbeginning to wonder if the savings are worth the potential aggravation.\\nare other mail order companies as difficult to contact?  i know gateway is\\nbooming, and for good reason, but i don't know if i can take it again.\\noh well, i feel better now...\", 'anaheim.', \"hello,\\n\\n    i am having a small problem with my sound blaster pro and a game.\\nis there a utility out there that would tell me what dma's my system\\nis using?\", \"after reading some of the reports of possible nhl moves to milwaukee or that\\nmilwaukee should have an nhl team, i thought i'd pass along a story i heard\\nrecently.  this is second hand, so i don't know how true it is, but i have\\nno reason to doubt it either.\\n\\nbradley center in milwaukee is home to the milwaukee admirals minor leauge\\nhockey team.  the owner of the admirals (sorry, i can't remember his name)\\neither owns or at least shelled out the majority of the funds to build the\\nbradley center.\\n\\nsupposedly he was approached by the nhl about an expansion franchise, but \\nturned it down because he thought the franchise fee of $50 million was too\\nhigh.\\n\\nlike i said, i don't know whether this story is true or just a rumor, but if\\nit's true, don't look for an nhl team in milwaukee anytime soon.  the admirals\\naren't going to be forced out of the building and you won't see an nhl club\\nand a minor league club in the same building, especially since the nba's\\nmilwaukee bucks play there as well.\", \"^^^^^^^^^^^^^^^^^^^^^^^^^^^^^^^^^^^^^^^^^^^^^^^\\ni've heard many turks say this and it surpises me that they don't read about\\nit.remember the treaty of sevres-as a consequence of being in the axis powers\\nin wwi.the turks under international law were supposed to look after their\\nminorities ie. greeks,armenians,kurds(i must say turk-kurd relations are \\nimproving slightly with time) and not pose a threat to turkey's neighbours.\\nthe turks blatantly rejected this treaty(the germans grudgingly accepted \\nversailles which was a million times worse for the health and pride of the \\ngerman people).the greeks who had an army there,were there with british\\nand french backing to enforce sevres.\\n    in possibly the first example of appeasement the young turk government\\nmanaged screwed the treaty of laussane out of the weak allies,this was after \\nthe greek forces were were destroyed at smyrna.when this occurred incidently,\\nfrench warships were in the harbour and many greeks trying escape swam to the \\nfrench warships and climbed aboard only to get their arms cut off by the french\\nas they clawed they're way up the sides of the ships.\\nlibertae,egalitae,fraternatae.\", \"i am asking you to believe in things not visible. i don't know if this is\\nbelieveing blindly or not. i'm not sure how blindness comes into it. i do\\nnot deny reason, indeed i insist upon it, but reason only draws conclusions\\nfrom evidence. if you decide in advance that your reason will act only on\\nthe evidence of the five physical senses, then you cut reason off from any\\npossibility of reaching a conclusion outside the physical sphere (beyond the\\nrather provocative, if inconclusive, conclusion that the physical sphere\\nis not self explanatory). \\n\\nchristians claim that they have received a different kind of evidence, \\nwhich they call faith, and which is a gift of god. that is, this evidence\\nis the evidence of a thing which chooses to reveal or hide itself. the \\nevidence of the senses cannot tell you is such a ting exists. reasoning\\non the evidence of the senses won't help either. but christians do reason\\nof the evidence of faith, and do claim that this evidence is wholly\\nconsistent with the evidence of the other senses, and indeed, that the\\nevidence of these other senses is part of god's revelation of himself\\nto us.\\n\\nit is not necessarilly the case however that knowledge of a god must come\\nthrough this route. there may be other senses than the physical ones\\nproviding evidence of non-physical realities. (there may, of course, be\\nphysical realities of a type for which we have no corresponding senses, for\\nall we know.) these senses, if they exist, may provide valid evidence for\\nreason to work on. and, as with all senses, these senses may be impaired\\nin some people, that is, they may be spiritually blind. in this sense,\\nbelief in god becomes an act of sight, and it is disbelief which is blind.\\n\\nfaith, as i have said, is not opposed to reason, it is simply a new source \\nof evidence on which reason may operate. it is clear that human beings\\nhave many systems for explaining the evidence of the physical senses, and\\nsimilarly there are many systems for explaining the evidence provided by\\nfaith. religious believers in general, and christians in particular, use\\nreason to help sift through the evidence to come to a clearer understanding\\nof the evidence provided by faith. science claims, with good reason, to be\\nthe most valid system for explaining the physical universe, and christianity\\nclaims, also with good reason, to be the most valid system, possessed of the\\nbest evidence, for explaining gods revelations of himself to man.\\n\\nif you doubt that christians use reason, read this newsgroup for a while\\nand you will see rational debate aplenty.\", 'i have an alesis hr-16 drum machine for sale.  it includes velocity-sensitive\\npads, 49 digital sounds, 99 pattern memory and 49 song memory.  if you are\\ninterested, make me an offer.  please respond to:\\n\\n\\tzmed16@trc.amoco.com\\n\\nthanks,', 'probably keep quiet and take it, lest they get their kneecaps busted.', \"here is the story:\\ni have a network with 4 macs on localtalk. one of them has an\\nethernet card, and is currently connected to a next (don't laugh\\ni got it for the price of a mac iisi). the next is connected\\nto the internet over slip running on a 9600 baud modem.\\n\\ncurrently, we can telnet from the mac w/ ethernet to the next,\\nand then telnet out again to the rest of the world.\\n\\nwhat we want to know is if there is some sort of hardware that\\nwill route telnet sessions from the localtalk macs to the next\\nvia the ethernet mac. from what we have heard, air doesn't do\\nthe trick.\\n\\nsoftware solutions would be good too, but my impression is that\\nthere aren't going to be any.\\n\\nour immediate interest is to be able to get to the next and telnet\\nout again. the slip connection doesn't allow us to assign ip numbers\\nto machines, so everyone shares that 1 number...oh well...\\n\\nthanks in advance.\", '', '[snip]\\n   in the first place the death of three soldiers on a patrol in occupied\\n   lebanese terrritory is not an act of terrorism or murder.  it is \\n   disingeneous to compare their death to that of athletes in munich\\n   or any other act of terrorism or mrder.  this exercise is aimed \\n   solely at diverting the issue and is far from the truth.\\n\\ni agree that the death of three soldiers on a patrol etc... is\\nnot terrorism.  that having been said, lets continue.\\n\\n   [snip]\\n   imagine ????  it is not a \"terrorist camp\" as you and the israelis like \\n   to view the villages they are small communities with kids playing soccer\\n   in the streets, women preparing lunch, men playing cards, etc.....\\n\\ni would not argue that all or even most of the villages are \"terrorist\\ncamps\".  there are however some which come very close to serving that\\npurpose and that is not to say that other did not function in that way\\nprior to the invasion. \\n\\n   some young men, usually aged between 17 to 30 years are members of\\n   the lebanese resistance.  even the inhabitants of the village do not \\n   know who these are, they are secretive about it, but most people often\\n   suspect who they are and what they are up to.  these young men are\\n   supported financially by iran most of the time.  they sneak arms and\\n   ammunitions into the occupied zone where they set up booby traps\\n   for israeli patrols.  every time an israeli soldier is killed or injured\\n   by these traps, israel retalliates by indiscriminately bombing villages\\n   of their own choosing often killing only innocent civilians.  once they\\n   are back they announce that they bombed a \"terrorist  hideout\" where\\n   an 8 year old girl just happened to be.\\n\\nsome of the villages, and yours might well be among them, are as you\\ndescribe.  not all are.  there are a large number of groups in the area,\\nbacked by various organizations, with a wide range of purposes.  hizbollah\\nand amal were two of the larger ones and may still be.  as to retaliation,\\nwhile mistakes may be made, that is still a far cry from indiscriminate\\nbombing, which would have produced major casualties.\\n\\n   israel\\'s retalliation policy is cold hearted, but a reality that\\n   we have come to accept and deal with, the lebanese resistance\\n   on the other hand is not going to stop its attacks on occupying \\n   israeli soldiers until they withdraw, this is the only real \\n   leverage that they have to force israel to withdraw.\\n\\nwell, here we disagree.  i think that israel would willingly withdraw if\\nthe lebanese gov\\'t was able to field a reliable force in the area to police\\nit and prevent further attacks.\\n\\n   this is the only realistic solution, it is time for israel to\\n   realize that the concept of a \"buffer zone\" aimed at protecting\\n   its northern cities has failed.  in fact it has caused much more\\n   israeli deaths than the occasional shelling of northern israel\\n   would have resulted in.  \\n\\nactually that is not clear at all.  i will agree that the death toll is no\\nlonger civilian and now primarily military though.\\n\\n   there seems to be very little incentive for the syrian and lebanese\\n   goovernment to allow hizbollah to bomb israel proper under such \\n   circumstances, and now the lebanese government has proven that it is\\n   capable of controlling and disarming all militias as they did\\n   in all other parts of lebanon.\\n\\nno, the syrian gov\\'t is more than happy to have israel sink into another\\nlebanese morass.  i could elaborate if necessary.\\n\\n   i agree, only in the case of the isareli soldiers their killing\\n   cannot be qualified as murder, no matter what you say.\\n\\nno, but it is regretable, as is the whole situation.', '', \"hi to all.\\n\\nsince all of you could also be a seller as well as a buyer, i'd like to bring\\nthis issue for discussion - what would be the best solution in case a deal \\nbecame a lemon?\\n\\nas i understand most people selling things over the net do not grant a warranty,i am in such a situation that the seller did not state whether a warranty would be granted or not and the item i received is out of order. the seller insisted\\nthat it was 'in good condition' when he sent it and so would just return half ofthe amount that i paid if i send the item back to him and after he is sured it\\nis bad. is this reasonable?\\n\\nbasically i would like to believe the seller tells the truth. also, i am positively to say that i've not done anything wrong which might cause the failure of \\nthe thing. my assumption here is everyone is honest - so rule out the possibility that either one of the two parties or both are liars.\\n\\ni would like to hear your opinion - either in here or directly respond to my\\ne-mail address.\\n\\ni know there is such a risk that you could lose money. but, how can we make it\\nenjoyable to most people and not wasting the bandwidth?\", 'thanks for the many offers to review this book.\\n\\nif you received a review copy, please return it\\nas soon as possible.  i had a system crash and\\nlost the list of people i sent it to!\\n\\nthanks', 'dn> from: nyeda@cnsvax.uwec.edu (david nye)\\ndn> a neurology\\ndn> consultation is cheaper than a scan.\\n\\nand also better, because a neurologist can make a differential\\ndiagnosis between migraine, tension-type headache, cluster, benign\\nintracranial hypertension, chronic paroxysmal hemicrania, and other\\nheadache syndromes that all appear normal on a scan.  a neurologist\\ncan also recommend a course of treatment that is appropriate to the\\ndiagnosis.\\n\\ndn> >>also, since many people are convinced they have brain tumors or other\\ndn> >>serious pathology, it may be cheaper to just get a ct scan then have\\ndn> >>them come into the er every few weeks.\\ndn> and easier than taking the time to reassure the patient, right?\\ndn> personally, i don\\'t think this can ever be justified.\\n\\nsigh.  it may never be justifiable, but i sometimes do it.  even\\nafter i try to show thoroughness with a detailed history, neurologic\\nexamination, and discussion with the patient about my diagnosis,\\nsalted with lots of reassurance, patients still ask \"why can\\'t you\\norder a scan, so we can be absolutely sure?\"  aunt millie often gets\\ninto the conversation, as in \"they ignored aunt millie\\'s headaches\\nfor years\", and then she died of a brain tumor, aneurysm, or\\nwhatever.  if you can get away without ever ordering imaging for a\\npatient with an obviously benign headache syndrome, i\\'d like to hear\\nwhat your magic is.\\n\\nevery once in a while i am able to bypass imaging by getting an eeg.\\nmind you, i don\\'t think eeg is terribly sensitive for brain tumor,\\nbut the patient feels like \"something is being done\" (as if the\\nhours i spent talking with and examining the patient were\\n\"nothing\"), the eeg has no ionizing radiation, it\\'s *much* cheaper\\nthan ct or mri, and the eeg brings in some money to my department.', 'i have a (very old) mac 512k and a mac plus, both of which \\nhave the same problem.\\n\\ntheir screens blank out, sometimes after a minor physical jolt\\n(such as inserting a floppy in the internal drive), sometimes \\nall by themselves (computer left to itself just goes blank).\\n\\ni have replaced the wires connecting the logic boards and the \\nvideo board, because it seemed at first that jiggling the wires\\nmade the screen come back on.  this worked for a while, but the\\nblanking out has returned.\\n\\ncan i do anything?  do i need a new power supply?  a new crt?\\na new computer?\\n\\nthanks for any advice...\\n\\n--------------------------\\nethan bodin\\ntufts university\\nebodin@pearl.tufts.edu', 'i just installed a dx2-66 cpu in a clone motherboard, and tried mounting a cpu \\ncooler on the chip.  after about 1/2 hour, the weight of the cooler was enough \\nto dislodge the cpu from its mount.  it ended up bending a few pins\\non the cpu, but luckily the power was not on yet.  i ended up\\npressing the cpu deeply into its socket and then putting the cpu\\ncooler back on.  so far so good.\\n\\nhave others had this problem?  how do you ensure that the weight of\\nthe cpu fan and heatsink do not eventually work the cpu out of its\\nsocket when mounting the motherboard in a vertical case?', \"wouldn't this require a hyper-sphere.  in 3-space, 4 points over specifies\\na sphere as far as i can see.  unless that is you can prove that a point\\nexists in 3-space that is equi-distant from the 4 points, and this may not\\nnecessarily happen.\\n\\ncorrect me if i'm wrong (which i quite possibly am!)\\n\\nsteve\\n---\", \"stolen from pasadena between 4:30 and 6:30 pm on 4/15.\\n\\nblue and white honda cbr900rr california plate kg cbr.   serial number\\njh2sc281xpm100187, engine number 2101240.\\n\\nno turn signals or mirrors, lights taped over for track riders session\\nat willow springs tomorrow.  guess i'll miss it.  :-(((\\n\\nhelp me find my baby!!!\"]\n"
     ]
    }
   ],
   "source": [
    "data = [item.strip() for item in data]\n",
    "print(data)"
   ]
  },
  {
   "cell_type": "code",
   "execution_count": 5,
   "metadata": {},
   "outputs": [
    {
     "output_type": "stream",
     "name": "stdout",
     "text": [
      "from article <c5owcb.n3p@world.std.com>, by tombaker@world.std.com (tom a baker):\n\n\nmy understanding is that the 'expected errors' are basically\nknown bugs in the warning system software - things are checked\nthat don't have the right values in yet because they aren't\nset till after launch, and suchlike. rather than fix the code\nand possibly introduce new bugs, they just tell the crew\n'ok, if you see a warning no. 213 before liftoff, ignore it'.\n"
     ]
    }
   ],
   "source": [
    "print(data[4])"
   ]
  },
  {
   "cell_type": "code",
   "execution_count": 6,
   "metadata": {
    "tags": []
   },
   "outputs": [
    {
     "output_type": "stream",
     "name": "stdout",
     "text": [
      "from article <c5owcb.n3p@world.std.com>, by tombaker@world.std.com (tom a baker):my understanding is that the expected errors are basically known bugs in the warning system software - things are checked that dont have the right values in yet because they arent set till after launch, and suchlike. rather than fix the code and possibly introduce new bugs, they just tell the crew ok, if you see a warning no. 213 before liftoff, ignore it.\n"
     ]
    }
   ],
   "source": [
    "import re\n",
    "\n",
    "data = [re.sub(r'\\s\\s+', '', item) for item in data]\n",
    "data = [re.sub(r'\\n', ' ', item) for item in data]\n",
    "data = [re.sub(r\"'\", '', item) for item in data]\n",
    "data = [re.sub(r'\"', '', item) for item in data]\n",
    "data = [re.sub(r'', '', item) for item in data]\n",
    "print(data[4])"
   ]
  },
  {
   "cell_type": "code",
   "execution_count": 13,
   "metadata": {
    "tags": []
   },
   "outputs": [
    {
     "output_type": "stream",
     "name": "stdout",
     "text": [
      "['from', 'article', 'c5owcb', 'n3p', 'world', 'std', 'com', 'by', 'tombaker', 'world', 'std', 'com', 'tom', 'a', 'baker', 'my', 'understanding', 'is', 'that', 'the', 'expected', 'errors', 'are', 'basically', 'known', 'bugs', 'in', 'the', 'warning', 'system', 'software', 'things', 'are', 'checked', 'that', 'dont', 'have', 'the', 'right', 'values', 'in', 'yet', 'because', 'they', 'arent', 'set', 'till', 'after', 'launch', 'and', 'suchlike', 'rather', 'than', 'fix', 'the', 'code', 'and', 'possibly', 'introduce', 'new', 'bugs', 'they', 'just', 'tell', 'the', 'crew', 'ok', 'if', 'you', 'see', 'a', 'warning', 'no', '213', 'before', 'liftoff', 'ignore', 'it']\n"
     ]
    }
   ],
   "source": [
    "from nltk.tokenize import RegexpTokenizer\n",
    "\n",
    "tokenizer = RegexpTokenizer(r'\\w+')\n",
    "data_tokens = [tokenizer.tokenize(item) for item in data]\n",
    "print(data_tokens[4])"
   ]
  },
  {
   "cell_type": "code",
   "execution_count": 24,
   "metadata": {},
   "outputs": [
    {
     "output_type": "stream",
     "name": "stdout",
     "text": [
      "['article', 'c5owcb', 'n3p', 'world', 'std', 'com', 'tombaker', 'world', 'std', 'com', 'tom', 'baker', 'understanding', 'expected', 'errors', 'basically', 'known', 'bugs', 'warning', 'system', 'software', 'things', 'checked', 'dont', 'right', 'values', 'yet', 'arent', 'set', 'till', 'launch', 'suchlike', 'rather', 'fix', 'code', 'possibly', 'introduce', 'new', 'bugs', 'tell', 'crew', 'ok', 'see', 'warning', '213', 'liftoff', 'ignore']\n"
     ]
    }
   ],
   "source": [
    "from nltk.corpus import stopwords \n",
    "stop_words = set(stopwords.words('english')) \n",
    "\n",
    "data_tokens = [[word for word in item if word not in stop_words] for item in data_tokens]\n",
    "print(data_tokens[4])"
   ]
  },
  {
   "cell_type": "code",
   "execution_count": 48,
   "metadata": {
    "tags": []
   },
   "outputs": [
    {
     "output_type": "stream",
     "name": "stdout",
     "text": [
      "['article', 'world', 'std', 'com', 'tombaker', 'world', 'std', 'com', 'tom', 'baker', 'understanding', 'expected', 'errors', 'basically', 'known', 'bugs', 'warning', 'system', 'software', 'things', 'checked', 'dont', 'right', 'values', 'yet', 'arent', 'set', 'till', 'launch', 'suchlike', 'rather', 'fix', 'code', 'possibly', 'introduce', 'new', 'bugs', 'tell', 'crew', 'ok', 'see', 'warning', 'liftoff', 'ignore']\n"
     ]
    }
   ],
   "source": [
    "data_token2 = [[word for word in item if word.isalpha()] for item in data_tokens]\n",
    "print(data_token2[4])"
   ]
  },
  {
   "cell_type": "code",
   "execution_count": 49,
   "metadata": {},
   "outputs": [
    {
     "output_type": "stream",
     "name": "stdout",
     "text": [
      "world\n"
     ]
    }
   ],
   "source": [
    "print(data_token2[4][1])"
   ]
  },
  {
   "cell_type": "code",
   "execution_count": 50,
   "metadata": {},
   "outputs": [],
   "source": [
    "from nltk.stem import WordNetLemmatizer\n",
    "lemmatizer = WordNetLemmatizer()\n",
    "\n",
    "data_token2 = [[lemmatizer.lemmatize(word) for word in item] for item in data_token2]\n"
   ]
  },
  {
   "cell_type": "code",
   "execution_count": 51,
   "metadata": {},
   "outputs": [
    {
     "output_type": "stream",
     "name": "stdout",
     "text": [
      "['article', 'world', 'std', 'com', 'tombaker', 'world', 'std', 'com', 'tom', 'baker', 'understanding', 'expected', 'error', 'basically', 'known', 'bug', 'warning', 'system', 'software', 'thing', 'checked', 'dont', 'right', 'value', 'yet', 'arent', 'set', 'till', 'launch', 'suchlike', 'rather', 'fix', 'code', 'possibly', 'introduce', 'new', 'bug', 'tell', 'crew', 'ok', 'see', 'warning', 'liftoff', 'ignore']\n"
     ]
    }
   ],
   "source": [
    "print(data_token2[4])"
   ]
  },
  {
   "cell_type": "code",
   "execution_count": 54,
   "metadata": {
    "tags": []
   },
   "outputs": [
    {
     "output_type": "stream",
     "name": "stdout",
     "text": [
      "article world std com tombaker world std com tom baker understanding expected error basically known bug warning system software thing checked dont right value yet arent set till launch suchlike rather fix code possibly introduce new bug tell crew ok see warning liftoff ignore\n"
     ]
    }
   ],
   "source": [
    "data_token3 = [' '.join(items) for items in data_token2]\n",
    "print(data_token3[4])"
   ]
  },
  {
   "cell_type": "code",
   "execution_count": 81,
   "metadata": {},
   "outputs": [],
   "source": [
    "from sklearn.model_selection import train_test_split\n",
    "\n",
    "X_train, X_test, y_train, y_test = train_test_split(data_token3, target, test_size = 0.25)\n"
   ]
  },
  {
   "cell_type": "code",
   "execution_count": 82,
   "metadata": {},
   "outputs": [
    {
     "output_type": "stream",
     "name": "stdout",
     "text": [
      "(8485, 80816)\n(2829, 80816)\n"
     ]
    }
   ],
   "source": [
    "from sklearn.feature_extraction.text import TfidfVectorizer\n",
    "\n",
    "vectorizer = TfidfVectorizer()\n",
    "\n",
    "X_train_tfidf = vectorizer.fit_transform(X_train)\n",
    "X_test_tfidf = vectorizer.transform(X_test)\n",
    "print(X_train_tfidf.shape)\n",
    "print(X_test_tfidf.shape)"
   ]
  },
  {
   "cell_type": "code",
   "execution_count": 85,
   "metadata": {},
   "outputs": [
    {
     "output_type": "stream",
     "name": "stdout",
     "text": [
      "0.7539766702014846\n"
     ]
    }
   ],
   "source": [
    "from sklearn.naive_bayes import MultinomialNB\n",
    "\n",
    "clf = MultinomialNB(alpha=0.01)\n",
    "clf.fit(X_train_tfidf, y_train)\n",
    "print(clf.score(X_test_tfidf, y_test))\n"
   ]
  },
  {
   "cell_type": "code",
   "execution_count": 86,
   "metadata": {},
   "outputs": [
    {
     "output_type": "stream",
     "name": "stdout",
     "text": [
      "{'alpha': 0.01}\n0.7390689451974073\n"
     ]
    }
   ],
   "source": [
    "from sklearn.model_selection import GridSearchCV\n",
    "\n",
    "params = {\n",
    "    'alpha': [0.01, 0.05, 0.1, 0.2, 0.5, 0.8, 1.0, 5, 10, 50]\n",
    "}\n",
    "\n",
    "clf = GridSearchCV(MultinomialNB(), params)\n",
    "clf.fit(X_train_tfidf, y_train)\n",
    "print(clf.best_params_)\n",
    "print(clf.best_score_)"
   ]
  },
  {
   "cell_type": "code",
   "execution_count": null,
   "metadata": {},
   "outputs": [],
   "source": []
  }
 ]
}